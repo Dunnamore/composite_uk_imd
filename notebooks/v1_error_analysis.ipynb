{
 "cells": [
  {
   "cell_type": "code",
   "execution_count": 3,
   "metadata": {},
   "outputs": [],
   "source": [
    "from data_common.notebook import *\n",
    "\n",
    "reset_renderer()"
   ]
  },
  {
   "cell_type": "markdown",
   "metadata": {},
   "source": [
    "# V1 - UK Index error analysis\n",
    "\n",
    "Problem: V1 of this index described two different ways of calculating the composite IMD. The UK wide index should have just used the employment information for comparison because the NI income data is incomparable. The GB index could use both. \n",
    "\n",
    "Due to an error (a typo of \"UK\" vs \"uk\") in the generation script, the income and employment information was used for both. As the NI information was incomparable, this led to SOAs in Northern Ireland being ranked as much less deprived than using the correct method. The GB-only index was unaffected by this problem. \n",
    "\n",
    "3479 (8%) of small areas have their population decile changed by this error. The following table shows the shift in decile by nation of moving from v1 (incorrect method) to v2 (correct method).\n",
    "\n",
    "This change affects almost all NI SOA position and the scale of the change is greater - with a reasonable proportion moving more than 1 decile. \n",
    "In aggregate, the change affects more LSOA/DZ in other parts of the country - but the scale of the change is smaller, with all movement within one decile. "
   ]
  },
  {
   "cell_type": "code",
   "execution_count": 24,
   "metadata": {},
   "outputs": [
    {
     "data": {
      "text/html": [
       "<style type=\"text/css\">\n",
       "</style>\n",
       "<table id=\"T_d2f0e\">\n",
       "  <thead>\n",
       "    <tr>\n",
       "      <th id=\"T_d2f0e_level0_col0\" class=\"col_heading level0 col0\" >nation</th>\n",
       "      <th id=\"T_d2f0e_level0_col1\" class=\"col_heading level0 col1\" >-3</th>\n",
       "      <th id=\"T_d2f0e_level0_col2\" class=\"col_heading level0 col2\" >-2</th>\n",
       "      <th id=\"T_d2f0e_level0_col3\" class=\"col_heading level0 col3\" >-1</th>\n",
       "      <th id=\"T_d2f0e_level0_col4\" class=\"col_heading level0 col4\" >1</th>\n",
       "      <th id=\"T_d2f0e_level0_col5\" class=\"col_heading level0 col5\" >2</th>\n",
       "      <th id=\"T_d2f0e_level0_col6\" class=\"col_heading level0 col6\" >3</th>\n",
       "    </tr>\n",
       "  </thead>\n",
       "  <tbody>\n",
       "    <tr>\n",
       "      <td id=\"T_d2f0e_row0_col0\" class=\"data row0 col0\" >E</td>\n",
       "      <td id=\"T_d2f0e_row0_col1\" class=\"data row0 col1\" >0</td>\n",
       "      <td id=\"T_d2f0e_row0_col2\" class=\"data row0 col2\" >0</td>\n",
       "      <td id=\"T_d2f0e_row0_col3\" class=\"data row0 col3\" >489</td>\n",
       "      <td id=\"T_d2f0e_row0_col4\" class=\"data row0 col4\" >718</td>\n",
       "      <td id=\"T_d2f0e_row0_col5\" class=\"data row0 col5\" >0</td>\n",
       "      <td id=\"T_d2f0e_row0_col6\" class=\"data row0 col6\" >0</td>\n",
       "    </tr>\n",
       "    <tr>\n",
       "      <td id=\"T_d2f0e_row1_col0\" class=\"data row1 col0\" >N</td>\n",
       "      <td id=\"T_d2f0e_row1_col1\" class=\"data row1 col1\" >19</td>\n",
       "      <td id=\"T_d2f0e_row1_col2\" class=\"data row1 col2\" >306</td>\n",
       "      <td id=\"T_d2f0e_row1_col3\" class=\"data row1 col3\" >386</td>\n",
       "      <td id=\"T_d2f0e_row1_col4\" class=\"data row1 col4\" >12</td>\n",
       "      <td id=\"T_d2f0e_row1_col5\" class=\"data row1 col5\" >1</td>\n",
       "      <td id=\"T_d2f0e_row1_col6\" class=\"data row1 col6\" >1</td>\n",
       "    </tr>\n",
       "    <tr>\n",
       "      <td id=\"T_d2f0e_row2_col0\" class=\"data row2 col0\" >S</td>\n",
       "      <td id=\"T_d2f0e_row2_col1\" class=\"data row2 col1\" >0</td>\n",
       "      <td id=\"T_d2f0e_row2_col2\" class=\"data row2 col2\" >0</td>\n",
       "      <td id=\"T_d2f0e_row2_col3\" class=\"data row2 col3\" >178</td>\n",
       "      <td id=\"T_d2f0e_row2_col4\" class=\"data row2 col4\" >389</td>\n",
       "      <td id=\"T_d2f0e_row2_col5\" class=\"data row2 col5\" >0</td>\n",
       "      <td id=\"T_d2f0e_row2_col6\" class=\"data row2 col6\" >0</td>\n",
       "    </tr>\n",
       "    <tr>\n",
       "      <td id=\"T_d2f0e_row3_col0\" class=\"data row3 col0\" >W</td>\n",
       "      <td id=\"T_d2f0e_row3_col1\" class=\"data row3 col1\" >0</td>\n",
       "      <td id=\"T_d2f0e_row3_col2\" class=\"data row3 col2\" >0</td>\n",
       "      <td id=\"T_d2f0e_row3_col3\" class=\"data row3 col3\" >0</td>\n",
       "      <td id=\"T_d2f0e_row3_col4\" class=\"data row3 col4\" >980</td>\n",
       "      <td id=\"T_d2f0e_row3_col5\" class=\"data row3 col5\" >0</td>\n",
       "      <td id=\"T_d2f0e_row3_col6\" class=\"data row3 col6\" >0</td>\n",
       "    </tr>\n",
       "  </tbody>\n",
       "</table>\n"
      ],
      "text/plain": [
       "<pandas.io.formats.style.Styler at 0x7f71248cb940>"
      ]
     },
     "execution_count": 24,
     "metadata": {},
     "output_type": "execute_result"
    }
   ],
   "source": [
    "old_index = pd.read_csv(Path(\"data\", \"raw\", \"v1_uk_index\", \"UK_IMD_E.csv\"))\n",
    "new_index = pd.read_csv(Path(\"data\", \"packages\", \"uk_index\", \"UK_IMD_E.csv\"))\n",
    "old_decile = old_index[[\"lsoa\", \"UK_IMD_E_pop_decile\"]].rename(\n",
    "    columns={\"UK_IMD_E_pop_decile\": \"old_decile\"}\n",
    ")\n",
    "new_decile = new_index[[\"lsoa\", \"nation\", \"UK_IMD_E_pop_decile\"]].rename(\n",
    "    columns={\"UK_IMD_E_pop_decile\": \"new_decile\"}\n",
    ")\n",
    "df = old_decile.merge(new_decile)\n",
    "df[\"decile_difference\"] = df[\"new_decile\"] - df[\"old_decile\"]\n",
    "df = df.loc[df[\"decile_difference\"] != 0]\n",
    "pt = df.pivot_table(\n",
    "    \"lsoa\", index=\"nation\", columns=\"decile_difference\", aggfunc=\"count\"\n",
    ").fillna(0)\n",
    "pt.columns.name = None\n",
    "pt = pt.astype(int)\n",
    "pt.reset_index().style.hide(axis=\"index\")  # type: ignore"
   ]
  },
  {
   "cell_type": "markdown",
   "metadata": {},
   "source": [
    "# Actions taken\n",
    "\n",
    "* Error in generation script fixed, and aggregate analysis in readme file rerun.\n",
    "* As this error was found as part of upgrading to a new versioned data structure, the scale of the change is reflected in a major version bump to V2. \n",
    "* The original plan was to maintain old URLs for the data files - instead I've broken those links to encourage any external users hotlinking to the file to come back to the repo, and get the up-to-date data."
   ]
  }
 ],
 "metadata": {
  "kernelspec": {
   "display_name": "Python 3.10.6 64-bit",
   "language": "python",
   "name": "python3"
  },
  "language_info": {
   "codemirror_mode": {
    "name": "ipython",
    "version": 3
   },
   "file_extension": ".py",
   "mimetype": "text/x-python",
   "name": "python",
   "nbconvert_exporter": "python",
   "pygments_lexer": "ipython3",
   "version": "3.10.6"
  },
  "orig_nbformat": 4,
  "vscode": {
   "interpreter": {
    "hash": "949777d72b0d2535278d3dc13498b2535136f6dfe0678499012e853ee9abcab1"
   }
  }
 },
 "nbformat": 4,
 "nbformat_minor": 2
}
